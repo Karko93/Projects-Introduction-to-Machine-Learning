{
 "cells": [
  {
   "cell_type": "code",
   "execution_count": 1,
   "metadata": {},
   "outputs": [],
   "source": [
    "import pandas as pd\n",
    "import numpy as np\n",
    "import sklearn as sk\n",
    "from sklearn.linear_model import Ridge\n",
    "from sklearn.model_selection import train_test_split\n",
    "from sklearn.model_selection import KFold\n",
    "from sklearn.preprocessing import StandardScaler\n",
    "import matplotlib.pyplot as plt"
   ]
  },
  {
   "cell_type": "code",
   "execution_count": 2,
   "metadata": {},
   "outputs": [],
   "source": [
    "## Reading data from csv-file and compartment into input and output\n",
    "train = pd.read_csv(\"train.csv\")\n",
    "X = np.array(train.drop(columns = [\"Id\", \"y\"]))\n",
    "y = np.array(train.get(\"y\"))"
   ]
  },
  {
   "cell_type": "code",
   "execution_count": 12,
   "metadata": {},
   "outputs": [],
   "source": [
    "#Ridge Regression with K-Fold\n",
    "cv = KFold(n_splits=10)\n",
    "cv.get_n_splits(X)\n",
    "alphas = np.array([0.01, 0.1 , 1 , 10 , 100])\n",
    "RMSE_avg = []\n",
    "\n",
    "for alph in alphas:\n",
    "    RMSE = []\n",
    "    clf = Ridge(alpha= alph, normalize= True, fit_intercept=False)\n",
    "    for train_index, test_index in cv.split(X):\n",
    "        X_train, X_test = X[train_index], X[test_index]\n",
    "        y_train, y_test = y[train_index], y[test_index]\n",
    "        clf.fit(X_train, y_train)\n",
    "        y_pred = clf.predict(X_test)\n",
    "        RMSE.append(np.sqrt(sk.metrics.mean_squared_error(y_test, y_pred)))\n",
    "    \n",
    "    RMSE_avg.append(np.mean(RMSE))\n",
    "    #print(np.mean(RMSE), '\\n', alph, '\\n', RMSE)"
   ]
  },
  {
   "cell_type": "code",
   "execution_count": 10,
   "metadata": {},
   "outputs": [
    {
     "name": "stdout",
     "output_type": "stream",
     "text": [
      "          0\n",
      "0  4.980966\n",
      "1  4.980783\n",
      "2  4.980050\n",
      "3  4.985353\n",
      "4  5.166496\n"
     ]
    }
   ],
   "source": [
    "result = pd.concat([pd.DataFrame(RMSE_avg)])\n",
    "print(result)\n",
    "pd.DataFrame(result).to_csv(\"submit.csv\", index=False, header=False, decimal='.', sep=' ', float_format='%.1f')"
   ]
  },
  {
   "cell_type": "code",
   "execution_count": null,
   "metadata": {},
   "outputs": [],
   "source": []
  }
 ],
 "metadata": {
  "kernelspec": {
   "display_name": "Python 3",
   "language": "python",
   "name": "python3"
  },
  "language_info": {
   "codemirror_mode": {
    "name": "ipython",
    "version": 3
   },
   "file_extension": ".py",
   "mimetype": "text/x-python",
   "name": "python",
   "nbconvert_exporter": "python",
   "pygments_lexer": "ipython3",
   "version": "3.7.0"
  }
 },
 "nbformat": 4,
 "nbformat_minor": 2
}
