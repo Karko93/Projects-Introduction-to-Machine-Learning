{
 "cells": [
  {
   "cell_type": "code",
   "execution_count": 2,
   "metadata": {},
   "outputs": [],
   "source": [
    "import pandas as pd\n",
    "import numpy as np\n",
    "import sklearn as sk\n",
    "from sklearn.linear_model import Ridge\n",
    "from sklearn.model_selection import train_test_split\n",
    "from sklearn.model_selection import KFold\n",
    "from sklearn.preprocessing import StandardScaler\n",
    "import matplotlib.pyplot as plt"
   ]
  },
  {
   "cell_type": "code",
   "execution_count": 3,
   "metadata": {},
   "outputs": [],
   "source": [
    "## Reading data from csv-file and compart into input and output\n",
    "train = pd.read_csv(\"train.csv\")\n",
    "X = np.array(train.drop(columns = [\"Id\", \"y\"]))\n",
    "y = np.array(train.get(\"y\"))"
   ]
  },
  {
   "cell_type": "code",
   "execution_count": 4,
   "metadata": {},
   "outputs": [],
   "source": [
    "## data preprocessing\n"
   ]
  },
  {
   "cell_type": "code",
   "execution_count": 5,
   "metadata": {},
   "outputs": [],
   "source": [
    "## k-fold\n",
    "\n",
    "#x_train, x_test, y_train, y_test = train_test_split(x, y, test_size=0.1, random_state=True)\n",
    "\n",
    "#for train_index, test_index in cv.split(x):\n",
    "    #print(\"Train Index: \", train_index, \"\\n\")\n",
    "    #print(\"Test Index: \", test_index)\n"
   ]
  },
  {
   "cell_type": "code",
   "execution_count": 26,
   "metadata": {},
   "outputs": [
    {
     "name": "stdout",
     "output_type": "stream",
     "text": [
      "4.7916104886070645 \n",
      " 0.01 \n",
      " [6.503312551185533, 5.20705299218843, 4.217469611254194, 4.303744213092366, 4.864150353195397, 4.089647767546908, 4.480426671202657, 6.284598065937298, 4.49238782335976, 3.473314837108101]\n",
      "4.829519495146863 \n",
      " 0.1 \n",
      " [6.764828121364052, 5.175415276644633, 4.1119686083787625, 4.176135502951208, 4.782672920437178, 4.154603113094438, 4.613455646793015, 6.421083423342045, 4.791125533029003, 3.303906805434301]\n",
      "5.531316619260612 \n",
      " 1.0 \n",
      " [7.413276935685913, 5.870213485171577, 4.507801668574062, 4.976321452956053, 4.36900497704026, 5.056491483776331, 5.4298551359285145, 7.124482931800148, 6.687124294252179, 3.878593827421079]\n",
      "7.6431853277851305 \n",
      " 10.0 \n",
      " [8.440610606666317, 7.551341181068162, 7.301968404309828, 7.495846556618635, 5.757163576354786, 7.143513452723912, 7.776880630616717, 8.722904104322039, 10.070350278839651, 6.171274486331256]\n",
      "8.899362276115166 \n",
      " 100.0 \n",
      " [9.195364622675465, 8.523546317929105, 9.039671910343486, 8.840224265691429, 7.021546479787134, 8.277553072891699, 9.148550989190833, 9.69837356399913, 11.607308993799457, 7.64148254484393]\n"
     ]
    }
   ],
   "source": [
    "#Ridge Regression\n",
    "cv = KFold(n_splits=10)\n",
    "cv.get_n_splits(X)\n",
    "alphas = np.array([0.01, 0.1 , 1 , 10 , 100])\n",
    "RMSE_avg = []\n",
    "\n",
    "for alph in alphas:\n",
    "    RMSE = []\n",
    "    clf = Ridge(alpha= alph, normalize= True, fit_intercept=False)\n",
    "    for train_index, test_index in cv.split(X):\n",
    "        X_train, X_test = X[train_index], X[test_index]\n",
    "        y_train, y_test = y[train_index], y[test_index]\n",
    "        clf.fit(X_train, y_train)\n",
    "        y_pred = clf.predict(X_test)\n",
    "        RMSE.append(np.sqrt(sk.metrics.mean_squared_error(y_test, y_pred)))\n",
    "    \n",
    "    RMSE_avg.append(np.mean(RMSE))\n",
    "    print(np.mean(RMSE), '\\n', alph, '\\n', RMSE)"
   ]
  },
  {
   "cell_type": "code",
   "execution_count": 27,
   "metadata": {},
   "outputs": [
    {
     "name": "stdout",
     "output_type": "stream",
     "text": [
      "(456, 13) (50, 13) \n",
      " (456,) (50,)\n"
     ]
    }
   ],
   "source": [
    "print(X_train.shape,X_test.shape, '\\n', y_train.shape,y_test.shape)"
   ]
  },
  {
   "cell_type": "code",
   "execution_count": 28,
   "metadata": {},
   "outputs": [
    {
     "name": "stdout",
     "output_type": "stream",
     "text": [
      "58.39225548315446\n"
     ]
    }
   ],
   "source": [
    "print(sk.metrics.mean_squared_error(y_test, y_pred))"
   ]
  },
  {
   "cell_type": "code",
   "execution_count": 29,
   "metadata": {},
   "outputs": [
    {
     "name": "stdout",
     "output_type": "stream",
     "text": [
      "[9.195364622675465, 8.523546317929105, 9.039671910343486, 8.840224265691429, 7.021546479787134, 8.277553072891699, 9.148550989190833, 9.69837356399913, 11.607308993799457, 7.64148254484393]\n"
     ]
    }
   ],
   "source": [
    "print(RMSE)"
   ]
  },
  {
   "cell_type": "code",
   "execution_count": 30,
   "metadata": {},
   "outputs": [
    {
     "name": "stdout",
     "output_type": "stream",
     "text": [
      "[4.7916104886070645, 4.829519495146863, 5.531316619260612, 7.6431853277851305, 8.899362276115166]\n"
     ]
    }
   ],
   "source": [
    "print(RMSE_avg)"
   ]
  },
  {
   "cell_type": "code",
   "execution_count": 31,
   "metadata": {},
   "outputs": [
    {
     "name": "stdout",
     "output_type": "stream",
     "text": [
      "          0\n",
      "0  4.791610\n",
      "1  4.829519\n",
      "2  5.531317\n",
      "3  7.643185\n",
      "4  8.899362\n"
     ]
    }
   ],
   "source": [
    "result = pd.concat([pd.DataFrame(RMSE_avg)])\n",
    "print(result)\n",
    "pd.DataFrame(result).to_csv(\"submit.csv\", index=False, header=False, decimal='.', sep=' ', float_format='%.1f')"
   ]
  },
  {
   "cell_type": "code",
   "execution_count": 32,
   "metadata": {},
   "outputs": [
    {
     "name": "stdout",
     "output_type": "stream",
     "text": [
      "8.899362276115166\n"
     ]
    }
   ],
   "source": [
    "print(max(RMSE_avg))"
   ]
  },
  {
   "cell_type": "code",
   "execution_count": null,
   "metadata": {},
   "outputs": [],
   "source": []
  },
  {
   "cell_type": "code",
   "execution_count": null,
   "metadata": {},
   "outputs": [],
   "source": []
  }
 ],
 "metadata": {
  "kernelspec": {
   "display_name": "Python 3",
   "language": "python",
   "name": "python3"
  },
  "language_info": {
   "codemirror_mode": {
    "name": "ipython",
    "version": 3
   },
   "file_extension": ".py",
   "mimetype": "text/x-python",
   "name": "python",
   "nbconvert_exporter": "python",
   "pygments_lexer": "ipython3",
   "version": "3.7.0"
  }
 },
 "nbformat": 4,
 "nbformat_minor": 2
}
