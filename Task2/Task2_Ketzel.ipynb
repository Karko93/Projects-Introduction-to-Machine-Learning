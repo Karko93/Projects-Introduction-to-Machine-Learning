{
 "cells": [
  {
   "cell_type": "code",
   "execution_count": 1,
   "metadata": {},
   "outputs": [],
   "source": [
    "import pandas as pd\n",
    "import numpy as np\n",
    "from IPython.display import display, HTML\n",
    "from sklearn.model_selection import train_test_split"
   ]
  },
  {
   "cell_type": "code",
   "execution_count": 2,
   "metadata": {},
   "outputs": [],
   "source": [
    "train_features = pd.read_csv(\"train_features.csv\")\n",
    "test_features = pd.read_csv(\"test_features.csv\")\n",
    "train_labels = pd.read_csv(\"train_labels.csv\")\n",
    "\n",
    "\n",
    "### Train set data\n",
    "X_train_features = train_features.drop(columns=[\"pid\"])\n",
    "X_train_pid = train_features.get(\"pid\") ## just in case if needed\n",
    "y_train_labels = train_labels.drop(columns = [\"pid\"])\n",
    "train_label_pid = train_labels.get(\"pid\") ## just in case if needed\n",
    "\n",
    "### Test set data\n",
    "X_test_features = test_features.drop(columns = [\"pid\"])\n",
    "X_test_pid = test_features.get(\"pid\")\n"
   ]
  },
  {
   "cell_type": "code",
   "execution_count": 3,
   "metadata": {},
   "outputs": [],
   "source": [
    "def extract_pids(dataframe):\n",
    "    pids = dataframe[\"pid\"].unique()\n",
    "    extracted_data = [dataframe[dataframe['pid'] == i] for i in pids]\n",
    "    return extracted_data\n",
    "    "
   ]
  },
  {
   "cell_type": "code",
   "execution_count": 4,
   "metadata": {},
   "outputs": [],
   "source": [
    "all_pid =extract_pids(train_features)\n",
    "X_train, X_val = train_test_split(all_pid, train_size = 0.6)\n"
   ]
  },
  {
   "cell_type": "code",
   "execution_count": 5,
   "metadata": {},
   "outputs": [
    {
     "name": "stdout",
     "output_type": "stream",
     "text": [
      "         pid  Time   Age  EtCO2  PTT   BUN  Lactate  Temp  Hgb  HCO3  ...   \\\n",
      "41136  15117     1  79.0    NaN  NaN   NaN      NaN   NaN  NaN   NaN  ...    \n",
      "41137  15117     2  79.0    NaN  NaN   NaN      NaN  36.0  NaN   NaN  ...    \n",
      "41138  15117     3  79.0    NaN  NaN   NaN      NaN  36.0  NaN   NaN  ...    \n",
      "41139  15117     4  79.0    NaN  NaN   NaN      NaN   NaN  NaN   NaN  ...    \n",
      "41140  15117     5  79.0    NaN  NaN   NaN      NaN   NaN  NaN   NaN  ...    \n",
      "41141  15117     6  79.0    NaN  NaN   NaN      NaN   NaN  9.2   NaN  ...    \n",
      "41142  15117     7  79.0    NaN  NaN   NaN      NaN  36.0  NaN   NaN  ...    \n",
      "41143  15117     8  79.0    NaN  NaN   NaN      NaN   NaN  NaN   NaN  ...    \n",
      "41144  15117     9  79.0    NaN  NaN   NaN      NaN   NaN  NaN   NaN  ...    \n",
      "41145  15117    10  79.0    NaN  NaN  15.0      NaN   NaN  8.6  21.0  ...    \n",
      "41146  15117    11  79.0    NaN  NaN   NaN      NaN  36.0  NaN   NaN  ...    \n",
      "41147  15117    12  79.0    NaN  NaN   NaN      NaN   NaN  NaN   NaN  ...    \n",
      "\n",
      "       Alkalinephos   SpO2  Bilirubin_direct  Chloride   Hct  Heartrate  \\\n",
      "41136           NaN    NaN               NaN       NaN   NaN        NaN   \n",
      "41137           NaN  100.0               NaN       NaN   NaN       84.0   \n",
      "41138           NaN  100.0               NaN       NaN   NaN       81.0   \n",
      "41139           NaN  100.0               NaN       NaN   NaN       75.0   \n",
      "41140           NaN  100.0               NaN       NaN   NaN       72.0   \n",
      "41141           NaN  100.0               NaN       NaN  25.8       75.0   \n",
      "41142           NaN  100.0               NaN       NaN   NaN       73.0   \n",
      "41143           NaN  100.0               NaN       NaN   NaN       90.0   \n",
      "41144           NaN  100.0               NaN       NaN   NaN       72.0   \n",
      "41145           NaN  100.0               NaN     107.0  24.0       86.0   \n",
      "41146           NaN  100.0               NaN       NaN   NaN       81.0   \n",
      "41147           NaN  100.0               NaN       NaN   NaN       84.0   \n",
      "\n",
      "       Bilirubin_total  TroponinI   ABPs    pH  \n",
      "41136              NaN        NaN    NaN   NaN  \n",
      "41137              NaN        NaN  114.0   NaN  \n",
      "41138              NaN        NaN  122.0   NaN  \n",
      "41139              NaN        NaN   99.0   NaN  \n",
      "41140              NaN        NaN  100.0   NaN  \n",
      "41141              NaN        NaN  103.0  7.51  \n",
      "41142              NaN        NaN   98.0  7.42  \n",
      "41143              NaN        NaN  127.0  7.56  \n",
      "41144              NaN        NaN  112.0   NaN  \n",
      "41145              NaN        NaN  119.0  7.45  \n",
      "41146              NaN        NaN  122.0   NaN  \n",
      "41147              NaN        NaN  128.0  7.55  \n",
      "\n",
      "[12 rows x 37 columns]\n"
     ]
    }
   ],
   "source": [
    "print(X_train[1])"
   ]
  },
  {
   "cell_type": "code",
   "execution_count": 6,
   "metadata": {},
   "outputs": [],
   "source": [
    "def impute_missing_data(dataframe):\n",
    "    for (columnName, columnData) in dataframe.drop(columns=[\"Time\",\"Age\",\"pid\"]).iteritems():\n",
    "        numb_rows = columnData.shape\n",
    "        not_NaN = columnData.count()\n",
    "        if not_NaN==0: continue\n",
    "        elif not_NaN == 1:\n",
    "            dataframe[columnName] = columnData.fillna(columnData.mean())\n",
    "        else:\n",
    "            dataframe[columnName] = columnData.interpolate()\n",
    "    return dataframe"
   ]
  },
  {
   "cell_type": "code",
   "execution_count": 7,
   "metadata": {},
   "outputs": [
    {
     "name": "stderr",
     "output_type": "stream",
     "text": [
      "C:\\Users\\Ketzel\\Anaconda3\\lib\\site-packages\\ipykernel_launcher.py:7: SettingWithCopyWarning: \n",
      "A value is trying to be set on a copy of a slice from a DataFrame.\n",
      "Try using .loc[row_indexer,col_indexer] = value instead\n",
      "\n",
      "See the caveats in the documentation: http://pandas.pydata.org/pandas-docs/stable/indexing.html#indexing-view-versus-copy\n",
      "  import sys\n",
      "C:\\Users\\Ketzel\\Anaconda3\\lib\\site-packages\\ipykernel_launcher.py:9: SettingWithCopyWarning: \n",
      "A value is trying to be set on a copy of a slice from a DataFrame.\n",
      "Try using .loc[row_indexer,col_indexer] = value instead\n",
      "\n",
      "See the caveats in the documentation: http://pandas.pydata.org/pandas-docs/stable/indexing.html#indexing-view-versus-copy\n",
      "  if __name__ == '__main__':\n"
     ]
    }
   ],
   "source": [
    "ss =impute_missing_data(X_train[1])"
   ]
  },
  {
   "cell_type": "code",
   "execution_count": 35,
   "metadata": {},
   "outputs": [
    {
     "ename": "AttributeError",
     "evalue": "'Series' object has no attribute 'to_numpy'",
     "output_type": "error",
     "traceback": [
      "\u001b[1;31m---------------------------------------------------------------------------\u001b[0m",
      "\u001b[1;31mAttributeError\u001b[0m                            Traceback (most recent call last)",
      "\u001b[1;32m<ipython-input-35-19e020689e82>\u001b[0m in \u001b[0;36m<module>\u001b[1;34m()\u001b[0m\n\u001b[0;32m      1\u001b[0m \u001b[0msst\u001b[0m \u001b[1;33m=\u001b[0m \u001b[0mss\u001b[0m\u001b[1;33m.\u001b[0m\u001b[0mmax\u001b[0m\u001b[1;33m(\u001b[0m\u001b[1;33m)\u001b[0m\u001b[1;33m\u001b[0m\u001b[0m\n\u001b[1;32m----> 2\u001b[1;33m \u001b[0mprint\u001b[0m\u001b[1;33m(\u001b[0m\u001b[0msst\u001b[0m\u001b[1;33m.\u001b[0m\u001b[0mto_numpy\u001b[0m\u001b[1;33m(\u001b[0m\u001b[1;33m)\u001b[0m\u001b[1;33m)\u001b[0m\u001b[1;33m\u001b[0m\u001b[0m\n\u001b[0m",
      "\u001b[1;32m~\\Anaconda3\\lib\\site-packages\\pandas\\core\\generic.py\u001b[0m in \u001b[0;36m__getattr__\u001b[1;34m(self, name)\u001b[0m\n\u001b[0;32m   4374\u001b[0m             \u001b[1;32mif\u001b[0m \u001b[0mself\u001b[0m\u001b[1;33m.\u001b[0m\u001b[0m_info_axis\u001b[0m\u001b[1;33m.\u001b[0m\u001b[0m_can_hold_identifiers_and_holds_name\u001b[0m\u001b[1;33m(\u001b[0m\u001b[0mname\u001b[0m\u001b[1;33m)\u001b[0m\u001b[1;33m:\u001b[0m\u001b[1;33m\u001b[0m\u001b[0m\n\u001b[0;32m   4375\u001b[0m                 \u001b[1;32mreturn\u001b[0m \u001b[0mself\u001b[0m\u001b[1;33m[\u001b[0m\u001b[0mname\u001b[0m\u001b[1;33m]\u001b[0m\u001b[1;33m\u001b[0m\u001b[0m\n\u001b[1;32m-> 4376\u001b[1;33m             \u001b[1;32mreturn\u001b[0m \u001b[0mobject\u001b[0m\u001b[1;33m.\u001b[0m\u001b[0m__getattribute__\u001b[0m\u001b[1;33m(\u001b[0m\u001b[0mself\u001b[0m\u001b[1;33m,\u001b[0m \u001b[0mname\u001b[0m\u001b[1;33m)\u001b[0m\u001b[1;33m\u001b[0m\u001b[0m\n\u001b[0m\u001b[0;32m   4377\u001b[0m \u001b[1;33m\u001b[0m\u001b[0m\n\u001b[0;32m   4378\u001b[0m     \u001b[1;32mdef\u001b[0m \u001b[0m__setattr__\u001b[0m\u001b[1;33m(\u001b[0m\u001b[0mself\u001b[0m\u001b[1;33m,\u001b[0m \u001b[0mname\u001b[0m\u001b[1;33m,\u001b[0m \u001b[0mvalue\u001b[0m\u001b[1;33m)\u001b[0m\u001b[1;33m:\u001b[0m\u001b[1;33m\u001b[0m\u001b[0m\n",
      "\u001b[1;31mAttributeError\u001b[0m: 'Series' object has no attribute 'to_numpy'"
     ]
    }
   ],
   "source": [
    "sst = ss.max()\n",
    "print(sst.to_numpy())"
   ]
  },
  {
   "cell_type": "code",
   "execution_count": 9,
   "metadata": {},
   "outputs": [],
   "source": [
    "def create_features(patient_data):\n",
    "    patient_features = np.array([])\n",
    "    relevant_data = patient_data.drop(columns=[\"Time\",\"Age\",\"pid\"]).tonumpy()\n",
    "    \n",
    "    \n",
    "    "
   ]
  },
  {
   "cell_type": "code",
   "execution_count": null,
   "metadata": {},
   "outputs": [],
   "source": [
    "features = np.array([])\n",
    "for patient in X_train:\n",
    "    patient = impute_missing_data(patient).drop(columns=[\"Time\",\"pid\"]);\n",
    "    \n",
    "    \n",
    "    "
   ]
  },
  {
   "cell_type": "code",
   "execution_count": null,
   "metadata": {},
   "outputs": [],
   "source": [
    "from sklearn import svm\n",
    "clf = svm.SVC()\n",
    "clf.fit(X, y)"
   ]
  },
  {
   "cell_type": "code",
   "execution_count": null,
   "metadata": {},
   "outputs": [],
   "source": [
    "Vita_values = train_features.get([\"pid\",\"Heartrate\", \"SpO2\", \"ABPs\", \"ABPm\", \"ABPd\", \"RRate\", \"Temp\" ])\n",
    "display(Vita_values)"
   ]
  },
  {
   "cell_type": "code",
   "execution_count": null,
   "metadata": {},
   "outputs": [],
   "source": [
    "ss = Vita_values[0:30]\n",
    "display(ss.std())\n",
    "tt = Vita_values.groupby('pid').mean()\n",
    "display(tt,tt.std())"
   ]
  },
  {
   "cell_type": "code",
   "execution_count": null,
   "metadata": {},
   "outputs": [],
   "source": [
    "###result = pd.concat([X_test_pid,pd.DataFrame(__result here__)],axis=1)\n",
    "result = pd.concat([X_test_pid.drop_duplicates()],axis=1)\n",
    "\n",
    "pd.DataFrame(result).to_csv(\"submit.csv\", index=False, header=True)"
   ]
  },
  {
   "cell_type": "code",
   "execution_count": null,
   "metadata": {},
   "outputs": [],
   "source": []
  }
 ],
 "metadata": {
  "kernelspec": {
   "display_name": "Python 3",
   "language": "python",
   "name": "python3"
  },
  "language_info": {
   "codemirror_mode": {
    "name": "ipython",
    "version": 3
   },
   "file_extension": ".py",
   "mimetype": "text/x-python",
   "name": "python",
   "nbconvert_exporter": "python",
   "pygments_lexer": "ipython3",
   "version": "3.7.0"
  }
 },
 "nbformat": 4,
 "nbformat_minor": 2
}
