{
 "cells": [
  {
   "cell_type": "code",
   "execution_count": 42,
   "metadata": {},
   "outputs": [],
   "source": [
    "import pandas as pd\n",
    "import numpy as np\n",
    "from IPython.display import display, HTML\n",
    "from sklearn.model_selection import train_test_split"
   ]
  },
  {
   "cell_type": "code",
   "execution_count": 43,
   "metadata": {},
   "outputs": [],
   "source": [
    "train_features = pd.read_csv(\"train_features.csv\")\n",
    "test_features = pd.read_csv(\"test_features.csv\")\n",
    "train_labels = pd.read_csv(\"train_labels.csv\")\n",
    "\n",
    "\n",
    "### Train set data\n",
    "X_train_features = train_features.drop(columns=[\"pid\"])\n",
    "X_train_pid = train_features.get(\"pid\") ## just in case if needed\n",
    "y_train_labels = train_labels.drop(columns = [\"pid\"])\n",
    "train_label_pid = train_labels.get(\"pid\") ## just in case if needed\n",
    "\n",
    "### Test set data\n",
    "X_test_features = test_features.drop(columns = [\"pid\"])\n",
    "X_test_pid = test_features.get(\"pid\")\n"
   ]
  },
  {
   "cell_type": "code",
   "execution_count": 44,
   "metadata": {},
   "outputs": [],
   "source": [
    "def extract_pids(feat_dataframe):\n",
    "    \n",
    "    \n",
    "    all_pids = feat_dataframe[\"pid\"].unique()\n",
    "    return all_pids\n",
    "    "
   ]
  },
  {
   "cell_type": "code",
   "execution_count": 45,
   "metadata": {},
   "outputs": [],
   "source": [
    "all_pid = extract_pids(train_features)\n",
    "\n",
    "train_pid, val_pid = train_test_split(all_pid, train_size= 0.8)"
   ]
  },
  {
   "cell_type": "code",
   "execution_count": 46,
   "metadata": {},
   "outputs": [],
   "source": [
    "from sklearn.experimental import enable_iterative_imputer  \n",
    "from sklearn.impute import IterativeImputer"
   ]
  },
  {
   "cell_type": "code",
   "execution_count": 47,
   "metadata": {},
   "outputs": [
    {
     "name": "stderr",
     "output_type": "stream",
     "text": [
      "C:\\Users\\Ketzel\\anaconda3\\lib\\site-packages\\sklearn\\impute\\_iterative.py:638: ConvergenceWarning: [IterativeImputer] Early stopping criterion not reached.\n",
      "  \" reached.\", ConvergenceWarning)\n",
      "C:\\Users\\Ketzel\\anaconda3\\lib\\site-packages\\sklearn\\impute\\_iterative.py:638: ConvergenceWarning: [IterativeImputer] Early stopping criterion not reached.\n",
      "  \" reached.\", ConvergenceWarning)\n"
     ]
    }
   ],
   "source": [
    "imputer = IterativeImputer(missing_values=np.NaN,n_nearest_features=4)\n",
    "mask = train_features['pid'].isin(train_pid)\n",
    "oo = train_features.loc[mask]#.drop(columns = [\"pid\"])\n",
    "idf=pd.DataFrame(imputer.fit_transform(oo))\n",
    "idf.columns=oo.columns\n",
    "idf.index=oo.index\n",
    "mask_kk = train_labels['pid'].isin(train_pid)\n",
    "kk = train_labels.loc[mask_kk]\n",
    "\n",
    "\n",
    "mask2 = train_labels['pid'].isin(val_pid)\n",
    "val_labels = train_labels.loc[mask2].drop(columns = [\"pid\"]).to_numpy()\n",
    "val_features = train_features['pid'].isin(val_pid).drop(columns = [\"pid\"])\n",
    "\n",
    "mask3 = train_features['pid'].isin(val_pid)\n",
    "pp = train_features.loc[mask3]#.drop(columns = [\"pid\"])\n",
    "idf_val=pd.DataFrame(imputer.fit_transform(pp))\n",
    "idf_val.columns=pp.columns\n",
    "idf_val.index=pp.index\n"
   ]
  },
  {
   "cell_type": "code",
   "execution_count": 48,
   "metadata": {},
   "outputs": [
    {
     "name": "stdout",
     "output_type": "stream",
     "text": [
      "['pid', 'LABEL_BaseExcess', 'LABEL_Fibrinogen', 'LABEL_AST', 'LABEL_Alkalinephos', 'LABEL_Bilirubin_total', 'LABEL_Lactate', 'LABEL_TroponinI', 'LABEL_SaO2', 'LABEL_Bilirubin_direct', 'LABEL_EtCO2', 'LABEL_Sepsis', 'LABEL_RRate', 'LABEL_ABPm', 'LABEL_SpO2', 'LABEL_Heartrate'] [    1    10   100  1000 10002 10006 10007 10009  1001 10010] [ 1000.  1000.  1000.  1000.  1000.  1000.  1000.  1000. 10002. 10002.]\n",
      "(15196,)\n"
     ]
    }
   ],
   "source": [
    "print(list(kk), kk['pid'].to_numpy()[0:10], idf['pid'].to_numpy()[40:50])\n",
    "#print(kk[['pid','LABEL_Sepsis']])\n",
    "print(train_pid.shape)"
   ]
  },
  {
   "cell_type": "code",
   "execution_count": 49,
   "metadata": {},
   "outputs": [],
   "source": [
    "def impute_missing_data(dataframe):\n",
    "    for (columnName, columnData) in dataframe.iteritems():\n",
    "        numb_rows = columnData.shape\n",
    "        not_NaN = columnData.count()\n",
    "        if not_NaN==0: continue\n",
    "        elif not_NaN == 1:\n",
    "            dataframe[columnName] = columnData.fillna(columnData.mean())\n",
    "        else:\n",
    "            dataframe[columnName] = columnData.interpolate()\n",
    "    return dataframe"
   ]
  },
  {
   "cell_type": "code",
   "execution_count": 50,
   "metadata": {},
   "outputs": [],
   "source": [
    "def create_features(patient_data):\n",
    "    relevant_data = patient_data\n",
    "    #relevant_data = patient_data.drop(columns=[\"Time\",\"Age\",\"pid\"])\n",
    "    feat1 = relevant_data.mean().to_numpy().reshape(1,-1)\n",
    "    feat2 = relevant_data.std().to_numpy().reshape(1,-1)\n",
    "    feat3 = relevant_data.max().to_numpy().reshape(1,-1)\n",
    "    patient_features = np.hstack((feat1,feat2))\n",
    "    return patient_features\n",
    "    "
   ]
  },
  {
   "cell_type": "code",
   "execution_count": 51,
   "metadata": {},
   "outputs": [],
   "source": [
    "features = create_features(idf[idf['pid'] == train_pid[0]].drop(columns=[\"Time\",\"Age\",\"pid\"]))\n",
    "labels = train_labels[train_labels['pid'] == train_pid[0]].drop(columns=[\"pid\"]).to_numpy().reshape(1,-1)"
   ]
  },
  {
   "cell_type": "code",
   "execution_count": 52,
   "metadata": {},
   "outputs": [
    {
     "name": "stdout",
     "output_type": "stream",
     "text": [
      "[[  0.    0.    0.    0.    0.    0.    0.    0.    0.    0.    0.   19.\n",
      "   91.8  95.7 108.2]]\n"
     ]
    }
   ],
   "source": [
    "print(labels)"
   ]
  },
  {
   "cell_type": "code",
   "execution_count": 53,
   "metadata": {},
   "outputs": [
    {
     "name": "stdout",
     "output_type": "stream",
     "text": [
      "(15196, 68) (1, 15) (15196, 15)\n"
     ]
    }
   ],
   "source": [
    "for pid in train_pid[1:]:\n",
    "    X_pid = idf[idf['pid'] == pid].drop(columns=[\"Time\",\"Age\",\"pid\"])\n",
    "    #X_pid = features[features[:,0]==pid,:]\n",
    "    #X_pid = impute_missing_data(X_pid)\n",
    "    X_feat = create_features(X_pid)\n",
    "    features = np.vstack((features,X_feat))\n",
    "    y_pid = train_labels[train_labels['pid'] == pid].drop(columns=[\"pid\"])\n",
    "    labels= np.vstack((labels,y_pid))\n",
    "    \n",
    "print(features.shape, y_pid.shape, labels.shape)\n",
    "\n",
    "    \n",
    "    \n",
    "    \n"
   ]
  },
  {
   "cell_type": "code",
   "execution_count": 54,
   "metadata": {},
   "outputs": [],
   "source": [
    "val_features = create_features(idf_val[idf_val['pid'] == val_pid[0]].drop(columns=[\"Time\",\"Age\",\"pid\"]))\n",
    "val_labels = train_labels[train_labels['pid'] == val_pid[0]].drop(columns=[\"pid\"]).to_numpy().reshape(1,-1)"
   ]
  },
  {
   "cell_type": "code",
   "execution_count": 55,
   "metadata": {},
   "outputs": [
    {
     "name": "stdout",
     "output_type": "stream",
     "text": [
      "(3799, 68) (1, 15) (3799, 15)\n"
     ]
    }
   ],
   "source": [
    "for pid in val_pid[1:]:\n",
    "    X_pid = idf_val[idf_val['pid'] == pid].drop(columns=[\"Time\",\"Age\",\"pid\"])\n",
    "    #X_pid = features[features[:,0]==pid,:]\n",
    "    #X_pid = impute_missing_data(X_pid)\n",
    "    X_feat = create_features(X_pid)\n",
    "    val_features = np.vstack((val_features,X_feat))\n",
    "    y_pid = train_labels[train_labels['pid'] == pid].drop(columns=[\"pid\"])\n",
    "    val_labels= np.vstack((val_labels,y_pid))\n",
    "    \n",
    "print(val_features.shape, y_pid.shape, val_labels.shape)"
   ]
  },
  {
   "cell_type": "code",
   "execution_count": 56,
   "metadata": {},
   "outputs": [
    {
     "name": "stdout",
     "output_type": "stream",
     "text": [
      "[0. 0. 0. 0. 0. 0. 0. 0. 0.]\n"
     ]
    }
   ],
   "source": [
    "print(val_labels[0,1:10])"
   ]
  },
  {
   "cell_type": "code",
   "execution_count": 57,
   "metadata": {},
   "outputs": [],
   "source": [
    "from sklearn import svm"
   ]
  },
  {
   "cell_type": "code",
   "execution_count": 58,
   "metadata": {},
   "outputs": [
    {
     "data": {
      "text/plain": [
       "SVC(C=1.0, break_ties=False, cache_size=200, class_weight=None, coef0=0.0,\n",
       "    decision_function_shape='ovr', degree=3, gamma='scale', kernel='sigmoid',\n",
       "    max_iter=-1, probability=True, random_state=None, shrinking=True, tol=0.001,\n",
       "    verbose=False)"
      ]
     },
     "execution_count": 58,
     "metadata": {},
     "output_type": "execute_result"
    }
   ],
   "source": [
    "\n",
    "clf = svm.SVC(kernel='sigmoid', probability= True)\n",
    "clf.fit(features, labels[:,1])"
   ]
  },
  {
   "cell_type": "code",
   "execution_count": 59,
   "metadata": {},
   "outputs": [],
   "source": [
    "y_hat = clf.predict_proba(val_features[:,:])"
   ]
  },
  {
   "cell_type": "code",
   "execution_count": 60,
   "metadata": {},
   "outputs": [
    {
     "name": "stderr",
     "output_type": "stream",
     "text": [
      "C:\\Users\\Ketzel\\anaconda3\\lib\\site-packages\\sklearn\\impute\\_iterative.py:638: ConvergenceWarning: [IterativeImputer] Early stopping criterion not reached.\n",
      "  \" reached.\", ConvergenceWarning)\n"
     ]
    }
   ],
   "source": [
    "test_pid = extract_pids(test_features)\n",
    "mask_test = test_features['pid'].isin(test_pid)\n",
    "ii = test_features.loc[mask_test]#.drop(columns = [\"pid\"])\n",
    "idf_test=pd.DataFrame(imputer.fit_transform(ii))\n",
    "idf_test.columns=ii.columns\n",
    "idf_test.index=ii.index"
   ]
  },
  {
   "cell_type": "code",
   "execution_count": 61,
   "metadata": {},
   "outputs": [],
   "source": [
    "t_features = create_features(idf_test[idf_test['pid'] == test_pid[0]].drop(columns=[\"Time\",\"Age\",\"pid\"]))"
   ]
  },
  {
   "cell_type": "code",
   "execution_count": 62,
   "metadata": {},
   "outputs": [
    {
     "name": "stdout",
     "output_type": "stream",
     "text": [
      "(12664, 68)\n"
     ]
    }
   ],
   "source": [
    "for pid in test_pid[1:]:\n",
    "    X_pid = idf_test[idf_test['pid'] == pid].drop(columns=[\"Time\",\"Age\",\"pid\"])\n",
    "    #X_pid = features[features[:,0]==pid,:]\n",
    "    #X_pid = impute_missing_data(X_pid)\n",
    "    X_feat = create_features(X_pid)\n",
    "    t_features = np.vstack((t_features,X_feat))\n",
    "\n",
    "    \n",
    "print(t_features.shape)\n",
    "\n",
    "    \n",
    "    \n",
    "    \n"
   ]
  },
  {
   "cell_type": "code",
   "execution_count": 63,
   "metadata": {},
   "outputs": [],
   "source": [
    "from sklearn.neural_network import MLPClassifier"
   ]
  },
  {
   "cell_type": "code",
   "execution_count": 64,
   "metadata": {},
   "outputs": [
    {
     "name": "stdout",
     "output_type": "stream",
     "text": [
      "(15196, 10)\n"
     ]
    }
   ],
   "source": [
    "tz =kk[['LABEL_BaseExcess', 'LABEL_Fibrinogen', 'LABEL_AST', 'LABEL_Alkalinephos', 'LABEL_Bilirubin_total', 'LABEL_Lactate', 'LABEL_TroponinI', 'LABEL_SaO2', 'LABEL_Bilirubin_direct', 'LABEL_EtCO2']]\n",
    "print(tz.to_numpy().shape)\n",
    "## ['pid', 'LABEL_BaseExcess', 'LABEL_Fibrinogen', 'LABEL_AST', 'LABEL_Alkalinephos', 'LABEL_Bilirubin_total', 'LABEL_Lactate', 'LABEL_TroponinI', 'LABEL_SaO2', 'LABEL_Bilirubin_direct', 'LABEL_EtCO2', 'LABEL_Sepsis', 'LABEL_RRate', 'LABEL_ABPm', 'LABEL_SpO2', 'LABEL_Heartrate']"
   ]
  },
  {
   "cell_type": "code",
   "execution_count": 65,
   "metadata": {},
   "outputs": [
    {
     "name": "stderr",
     "output_type": "stream",
     "text": [
      "C:\\Users\\Ketzel\\anaconda3\\lib\\site-packages\\sklearn\\neural_network\\_multilayer_perceptron.py:571: ConvergenceWarning: Stochastic Optimizer: Maximum iterations (200) reached and the optimization hasn't converged yet.\n",
      "  % self.max_iter, ConvergenceWarning)\n"
     ]
    }
   ],
   "source": [
    "test_labels = test_pid\n",
    "model = MLPClassifier(activation='logistic')\n",
    "model.fit(features, labels[:,0:10])\n",
    "#model.fit(features, kk[['LABEL_BaseExcess', 'LABEL_Fibrinogen', 'LABEL_AST', 'LABEL_Alkalinephos', 'LABEL_Bilirubin_total', 'LABEL_Lactate', 'LABEL_TroponinI', 'LABEL_SaO2', 'LABEL_Bilirubin_direct', 'LABEL_EtCO2']].to_numpy()) ####\n",
    "y_hat = model.predict_proba(t_features[:,:])\n",
    "test_labels = np.column_stack((test_labels,y_hat))"
   ]
  },
  {
   "cell_type": "code",
   "execution_count": 66,
   "metadata": {},
   "outputs": [
    {
     "name": "stdout",
     "output_type": "stream",
     "text": [
      "(12664,)\n"
     ]
    }
   ],
   "source": [
    "print(test_pid.shape)"
   ]
  },
  {
   "cell_type": "code",
   "execution_count": 67,
   "metadata": {},
   "outputs": [
    {
     "name": "stdout",
     "output_type": "stream",
     "text": [
      "(15196,) (15196, 68)\n",
      "[1. 1. 1. 1. 1. 1. 1. 1. 1. 1. 1. 1. 1. 1. 1. 1. 1. 1. 1. 1. 1. 1. 1. 1.\n",
      " 1. 1. 1. 1. 1. 1. 1. 1. 1. 1. 1. 1. 1. 1. 1. 1. 1. 1. 1. 1. 1. 1. 1. 1.\n",
      " 1. 1. 1. 1. 1. 1. 1. 1. 1. 1. 1. 1. 1. 1. 1. 1. 1. 1. 1. 1. 1. 1. 1. 1.\n",
      " 1. 1. 1. 1. 1. 1. 1. 1. 1. 1. 1. 1. 1. 1. 1. 1. 1. 1. 1. 1. 1. 1. 1. 1.\n",
      " 1. 1. 1. 1. 1. 1. 1. 1. 1. 1. 1. 1. 1. 1. 1. 1. 1. 1. 1. 1. 1. 1. 1. 1.\n",
      " 1. 1. 1. 1. 1. 1. 1. 1. 1. 1. 1. 1. 1. 1. 1. 1. 1. 1. 1. 1. 1. 1. 1. 1.\n",
      " 1. 1. 1. 1. 1. 1. 1. 1. 1. 1. 1. 1. 1. 1. 1. 1. 1. 1. 1. 1. 1. 1. 1. 1.\n",
      " 1. 1. 1. 1. 1. 1. 1. 1. 1. 1. 1. 1. 1. 1. 1. 1. 1. 1. 1. 1. 1. 1. 1. 1.\n",
      " 1. 1. 1. 1. 1. 1. 1. 1. 1. 1. 1. 1. 1. 1. 1. 1. 1. 1. 1. 1. 1. 1. 1. 1.\n",
      " 1. 1. 1. 1. 1. 1. 1. 1. 1. 1. 1. 1. 1. 1. 1. 1. 1. 1. 1. 1. 1. 1. 1. 1.\n",
      " 1. 1. 1. 1. 1. 1. 1. 1. 1. 1. 1. 1. 1. 1. 1. 1. 1. 1. 1. 1. 1. 1. 1. 1.\n",
      " 1. 1. 1. 1. 1. 1. 1. 1. 1. 1. 1. 1. 1. 1. 1. 1. 1. 1. 1. 1. 1. 1. 1. 1.\n",
      " 1. 1. 1. 1. 1. 1. 1. 1. 1. 1. 1. 1. 1. 1. 1. 1. 1. 1. 1. 1. 1. 1. 1. 1.\n",
      " 1. 1. 1. 1. 1. 1. 1. 1. 1. 1. 1. 1. 1. 1. 1. 1. 1. 1. 1. 1. 1. 1. 1. 1.\n",
      " 1. 1. 1. 1. 1. 1. 1. 1. 1. 1. 1. 1. 1. 1. 1. 1. 1. 1. 1. 1. 1. 1. 1. 1.\n",
      " 1. 1. 1. 1. 1. 1. 1. 1. 1. 1. 1. 1. 1. 1. 1. 1. 1. 1. 1. 1. 1. 1. 1. 1.\n",
      " 1. 1. 1. 1. 1. 1. 1. 1. 1. 1. 1. 1. 1. 1. 1. 1. 1. 1. 1. 1. 1. 1. 1. 1.\n",
      " 1. 1. 1. 1. 1. 1. 1. 1. 1. 1. 1. 1. 1. 1. 1. 1. 1. 1. 1. 1. 1. 1. 1. 1.\n",
      " 1. 1. 1. 1. 1. 1. 1. 1. 1. 1. 1. 1. 1. 1. 1. 1. 1. 1. 1. 1. 1. 1. 1. 1.\n",
      " 1. 1. 1. 1. 1. 1. 1. 1. 1. 1. 1. 1. 1. 1. 1. 1. 1. 1. 1. 1. 1. 1. 1. 1.\n",
      " 1. 1. 1. 1. 1. 1. 1. 1. 1. 1. 1. 1. 1. 1. 1. 1. 1. 1. 1. 1. 1. 1. 1. 1.\n",
      " 1. 1. 1. 1. 1. 1. 1. 1. 1. 1. 1. 1. 1. 1. 1. 1. 1. 1. 1. 1. 1. 1. 1. 1.\n",
      " 1. 1. 1. 1. 1. 1. 1. 1. 1. 1. 1. 1. 1. 1. 1. 1. 1. 1. 1. 1. 1. 1. 1. 1.\n",
      " 1. 1. 1. 1. 1. 1. 1. 1. 1. 1. 1. 1. 1. 1. 1. 1. 1. 1. 1. 1. 1. 1. 1. 1.\n",
      " 1. 1. 1. 1. 1. 1. 1. 1. 1. 1. 1. 1. 1. 1. 1. 1. 1. 1. 1. 1. 1. 1. 1. 1.\n",
      " 1. 1. 1. 1. 1. 1. 1. 1. 1. 1. 1. 1. 1. 1. 1. 1. 1. 1. 1. 1. 1. 1. 1. 1.\n",
      " 1. 1. 1. 1. 1. 1. 1. 1. 1. 1. 1. 1. 1. 1. 1. 1. 1. 1. 1. 1. 1. 1. 1. 1.\n",
      " 1. 1. 1. 1. 1. 1. 1. 1. 1. 1. 1. 1. 1. 1. 1. 1. 1. 1. 1. 1. 1. 1. 1. 1.\n",
      " 1. 1. 1. 1. 1. 1. 1. 1. 1. 1. 1. 1. 1. 1. 1. 1. 1. 1. 1. 1. 1. 1. 1. 1.\n",
      " 1. 1. 1. 1. 1. 1. 1. 1. 1. 1. 1. 1. 1. 1. 1. 1. 1. 1. 1. 1. 1. 1. 1. 1.\n",
      " 1. 1. 1. 1. 1. 1. 1. 1. 1. 1. 1. 1. 1. 1. 1. 1. 1. 1. 1. 1. 1. 1. 1. 1.\n",
      " 1. 1. 1. 1. 1. 1. 1. 1. 1. 1. 1. 1. 1. 1. 1. 1. 1. 1. 1. 1. 1. 1. 1. 1.\n",
      " 1. 1. 1. 1. 1. 1. 1. 1. 1. 1. 1. 1. 1. 1. 1. 1. 1. 1. 1. 1. 1. 1. 1. 1.\n",
      " 1. 1. 1. 1. 1. 1. 1. 1. 1. 1. 1. 1. 1. 1. 1. 1. 1. 1. 1. 1. 1. 1. 1. 1.\n",
      " 1. 1. 1. 1. 1. 1. 1. 1. 1. 1. 1. 1. 1. 1. 1. 1. 1. 1. 1. 1. 1. 1. 1. 1.\n",
      " 1. 1. 1. 1. 1. 1. 1. 1. 1. 1. 1. 1. 1. 1. 1. 1. 1. 1. 1. 1.]\n"
     ]
    }
   ],
   "source": [
    "\n",
    "ss = kk['LABEL_Sepsis'].to_numpy()\n",
    "print(ss.shape, features.shape)\n",
    "print(ss[ss==1])"
   ]
  },
  {
   "cell_type": "code",
   "execution_count": 68,
   "metadata": {},
   "outputs": [],
   "source": [
    "clf = svm.SVC(kernel='linear', probability= False)\n",
    "#clf.fit(features, labels[:,10] ) kk['pid'].to_numpy()\n",
    "clf.fit(features, ss )\n",
    "y_hat = clf.predict(t_features[:,:])\n",
    "test_labels = np.column_stack((test_labels,y_hat))"
   ]
  },
  {
   "cell_type": "code",
   "execution_count": 69,
   "metadata": {},
   "outputs": [],
   "source": [
    "from sklearn.linear_model import LinearRegression"
   ]
  },
  {
   "cell_type": "code",
   "execution_count": 70,
   "metadata": {},
   "outputs": [],
   "source": [
    "reg = LinearRegression(fit_intercept= False, normalize= False)\n",
    "y_hat = reg.fit(features, labels[:,11:]).predict(t_features[:,:])\n",
    "test_labels = np.column_stack((test_labels,y_hat))"
   ]
  },
  {
   "cell_type": "code",
   "execution_count": 71,
   "metadata": {},
   "outputs": [
    {
     "name": "stdout",
     "output_type": "stream",
     "text": [
      "(12664, 16) (18995, 16)\n"
     ]
    }
   ],
   "source": [
    "print(test_labels.shape, train_labels.to_numpy().shape)"
   ]
  },
  {
   "cell_type": "code",
   "execution_count": 72,
   "metadata": {},
   "outputs": [],
   "source": [
    "test_labels = pd.DataFrame(test_labels)\n",
    "test_labels.columns=train_labels.columns\n",
    "results = test_labels"
   ]
  },
  {
   "cell_type": "code",
   "execution_count": 76,
   "metadata": {},
   "outputs": [],
   "source": [
    "###result = pd.concat([X_test_pid,pd.DataFrame(__result here__)],axis=1)\n",
    "result = pd.concat([X_test_pid.drop_duplicates()],axis=1)\n",
    "\n",
    "pd.DataFrame(results).to_csv(\"submit_Ketzel.csv\", index=False, header=True)\n",
    "results.to_csv('prediction.zip', index=False, float_format='%.3f', compression='zip')\n"
   ]
  },
  {
   "cell_type": "code",
   "execution_count": 74,
   "metadata": {},
   "outputs": [
    {
     "data": {
      "text/html": [
       "<div>\n",
       "<style scoped>\n",
       "    .dataframe tbody tr th:only-of-type {\n",
       "        vertical-align: middle;\n",
       "    }\n",
       "\n",
       "    .dataframe tbody tr th {\n",
       "        vertical-align: top;\n",
       "    }\n",
       "\n",
       "    .dataframe thead th {\n",
       "        text-align: right;\n",
       "    }\n",
       "</style>\n",
       "<table border=\"1\" class=\"dataframe\">\n",
       "  <thead>\n",
       "    <tr style=\"text-align: right;\">\n",
       "      <th></th>\n",
       "      <th>pid</th>\n",
       "      <th>Heartrate</th>\n",
       "      <th>SpO2</th>\n",
       "      <th>ABPs</th>\n",
       "      <th>ABPm</th>\n",
       "      <th>ABPd</th>\n",
       "      <th>RRate</th>\n",
       "      <th>Temp</th>\n",
       "    </tr>\n",
       "  </thead>\n",
       "  <tbody>\n",
       "    <tr>\n",
       "      <th>0</th>\n",
       "      <td>1</td>\n",
       "      <td>94.0</td>\n",
       "      <td>100.0</td>\n",
       "      <td>142.0</td>\n",
       "      <td>84.0</td>\n",
       "      <td>61.0</td>\n",
       "      <td>16.0</td>\n",
       "      <td>36.0</td>\n",
       "    </tr>\n",
       "    <tr>\n",
       "      <th>1</th>\n",
       "      <td>1</td>\n",
       "      <td>99.0</td>\n",
       "      <td>100.0</td>\n",
       "      <td>125.0</td>\n",
       "      <td>81.0</td>\n",
       "      <td>62.5</td>\n",
       "      <td>16.0</td>\n",
       "      <td>36.0</td>\n",
       "    </tr>\n",
       "    <tr>\n",
       "      <th>2</th>\n",
       "      <td>1</td>\n",
       "      <td>92.0</td>\n",
       "      <td>100.0</td>\n",
       "      <td>110.0</td>\n",
       "      <td>74.0</td>\n",
       "      <td>59.0</td>\n",
       "      <td>18.0</td>\n",
       "      <td>36.0</td>\n",
       "    </tr>\n",
       "    <tr>\n",
       "      <th>3</th>\n",
       "      <td>1</td>\n",
       "      <td>88.0</td>\n",
       "      <td>100.0</td>\n",
       "      <td>104.0</td>\n",
       "      <td>66.0</td>\n",
       "      <td>49.5</td>\n",
       "      <td>18.0</td>\n",
       "      <td>37.0</td>\n",
       "    </tr>\n",
       "    <tr>\n",
       "      <th>4</th>\n",
       "      <td>1</td>\n",
       "      <td>81.0</td>\n",
       "      <td>100.0</td>\n",
       "      <td>100.0</td>\n",
       "      <td>63.0</td>\n",
       "      <td>48.0</td>\n",
       "      <td>18.0</td>\n",
       "      <td>NaN</td>\n",
       "    </tr>\n",
       "    <tr>\n",
       "      <th>...</th>\n",
       "      <td>...</td>\n",
       "      <td>...</td>\n",
       "      <td>...</td>\n",
       "      <td>...</td>\n",
       "      <td>...</td>\n",
       "      <td>...</td>\n",
       "      <td>...</td>\n",
       "      <td>...</td>\n",
       "    </tr>\n",
       "    <tr>\n",
       "      <th>227935</th>\n",
       "      <td>9999</td>\n",
       "      <td>80.0</td>\n",
       "      <td>NaN</td>\n",
       "      <td>110.0</td>\n",
       "      <td>78.0</td>\n",
       "      <td>NaN</td>\n",
       "      <td>17.0</td>\n",
       "      <td>NaN</td>\n",
       "    </tr>\n",
       "    <tr>\n",
       "      <th>227936</th>\n",
       "      <td>9999</td>\n",
       "      <td>83.0</td>\n",
       "      <td>NaN</td>\n",
       "      <td>123.0</td>\n",
       "      <td>88.0</td>\n",
       "      <td>NaN</td>\n",
       "      <td>15.0</td>\n",
       "      <td>NaN</td>\n",
       "    </tr>\n",
       "    <tr>\n",
       "      <th>227937</th>\n",
       "      <td>9999</td>\n",
       "      <td>80.0</td>\n",
       "      <td>98.0</td>\n",
       "      <td>138.0</td>\n",
       "      <td>97.0</td>\n",
       "      <td>NaN</td>\n",
       "      <td>22.0</td>\n",
       "      <td>36.0</td>\n",
       "    </tr>\n",
       "    <tr>\n",
       "      <th>227938</th>\n",
       "      <td>9999</td>\n",
       "      <td>75.0</td>\n",
       "      <td>98.0</td>\n",
       "      <td>125.0</td>\n",
       "      <td>84.0</td>\n",
       "      <td>NaN</td>\n",
       "      <td>22.0</td>\n",
       "      <td>NaN</td>\n",
       "    </tr>\n",
       "    <tr>\n",
       "      <th>227939</th>\n",
       "      <td>9999</td>\n",
       "      <td>79.0</td>\n",
       "      <td>NaN</td>\n",
       "      <td>128.0</td>\n",
       "      <td>85.0</td>\n",
       "      <td>NaN</td>\n",
       "      <td>24.0</td>\n",
       "      <td>NaN</td>\n",
       "    </tr>\n",
       "  </tbody>\n",
       "</table>\n",
       "<p>227940 rows × 8 columns</p>\n",
       "</div>"
      ],
      "text/plain": [
       "         pid  Heartrate   SpO2   ABPs  ABPm  ABPd  RRate  Temp\n",
       "0          1       94.0  100.0  142.0  84.0  61.0   16.0  36.0\n",
       "1          1       99.0  100.0  125.0  81.0  62.5   16.0  36.0\n",
       "2          1       92.0  100.0  110.0  74.0  59.0   18.0  36.0\n",
       "3          1       88.0  100.0  104.0  66.0  49.5   18.0  37.0\n",
       "4          1       81.0  100.0  100.0  63.0  48.0   18.0   NaN\n",
       "...      ...        ...    ...    ...   ...   ...    ...   ...\n",
       "227935  9999       80.0    NaN  110.0  78.0   NaN   17.0   NaN\n",
       "227936  9999       83.0    NaN  123.0  88.0   NaN   15.0   NaN\n",
       "227937  9999       80.0   98.0  138.0  97.0   NaN   22.0  36.0\n",
       "227938  9999       75.0   98.0  125.0  84.0   NaN   22.0   NaN\n",
       "227939  9999       79.0    NaN  128.0  85.0   NaN   24.0   NaN\n",
       "\n",
       "[227940 rows x 8 columns]"
      ]
     },
     "metadata": {},
     "output_type": "display_data"
    }
   ],
   "source": [
    "Vita_values = train_features.get([\"pid\",\"Heartrate\", \"SpO2\", \"ABPs\", \"ABPm\", \"ABPd\", \"RRate\", \"Temp\" ])\n",
    "display(Vita_values)"
   ]
  },
  {
   "cell_type": "code",
   "execution_count": 75,
   "metadata": {},
   "outputs": [
    {
     "data": {
      "text/plain": [
       "pid          38.663535\n",
       "Heartrate    14.810045\n",
       "SpO2          1.448628\n",
       "ABPs         16.009257\n",
       "ABPm         17.880418\n",
       "ABPd         17.205957\n",
       "RRate         2.743555\n",
       "Temp          0.767948\n",
       "dtype: float64"
      ]
     },
     "metadata": {},
     "output_type": "display_data"
    },
    {
     "data": {
      "text/html": [
       "<div>\n",
       "<style scoped>\n",
       "    .dataframe tbody tr th:only-of-type {\n",
       "        vertical-align: middle;\n",
       "    }\n",
       "\n",
       "    .dataframe tbody tr th {\n",
       "        vertical-align: top;\n",
       "    }\n",
       "\n",
       "    .dataframe thead th {\n",
       "        text-align: right;\n",
       "    }\n",
       "</style>\n",
       "<table border=\"1\" class=\"dataframe\">\n",
       "  <thead>\n",
       "    <tr style=\"text-align: right;\">\n",
       "      <th></th>\n",
       "      <th>Heartrate</th>\n",
       "      <th>SpO2</th>\n",
       "      <th>ABPs</th>\n",
       "      <th>ABPm</th>\n",
       "      <th>ABPd</th>\n",
       "      <th>RRate</th>\n",
       "      <th>Temp</th>\n",
       "    </tr>\n",
       "    <tr>\n",
       "      <th>pid</th>\n",
       "      <th></th>\n",
       "      <th></th>\n",
       "      <th></th>\n",
       "      <th></th>\n",
       "      <th></th>\n",
       "      <th></th>\n",
       "      <th></th>\n",
       "    </tr>\n",
       "  </thead>\n",
       "  <tbody>\n",
       "    <tr>\n",
       "      <th>1</th>\n",
       "      <td>77.083333</td>\n",
       "      <td>100.000000</td>\n",
       "      <td>114.500000</td>\n",
       "      <td>68.333333</td>\n",
       "      <td>50.250000</td>\n",
       "      <td>17.000000</td>\n",
       "      <td>36.750000</td>\n",
       "    </tr>\n",
       "    <tr>\n",
       "      <th>2</th>\n",
       "      <td>59.000000</td>\n",
       "      <td>96.000000</td>\n",
       "      <td>131.181818</td>\n",
       "      <td>94.636364</td>\n",
       "      <td>70.090909</td>\n",
       "      <td>18.000000</td>\n",
       "      <td>36.000000</td>\n",
       "    </tr>\n",
       "    <tr>\n",
       "      <th>4</th>\n",
       "      <td>72.545455</td>\n",
       "      <td>99.272727</td>\n",
       "      <td>125.454545</td>\n",
       "      <td>80.909091</td>\n",
       "      <td>49.600000</td>\n",
       "      <td>14.636364</td>\n",
       "      <td>36.666667</td>\n",
       "    </tr>\n",
       "    <tr>\n",
       "      <th>6</th>\n",
       "      <td>87.333333</td>\n",
       "      <td>99.333333</td>\n",
       "      <td>100.666667</td>\n",
       "      <td>65.750000</td>\n",
       "      <td>48.833333</td>\n",
       "      <td>15.833333</td>\n",
       "      <td>37.166667</td>\n",
       "    </tr>\n",
       "    <tr>\n",
       "      <th>8</th>\n",
       "      <td>81.181818</td>\n",
       "      <td>97.800000</td>\n",
       "      <td>204.545455</td>\n",
       "      <td>143.900000</td>\n",
       "      <td>108.954545</td>\n",
       "      <td>17.181818</td>\n",
       "      <td>36.000000</td>\n",
       "    </tr>\n",
       "    <tr>\n",
       "      <th>...</th>\n",
       "      <td>...</td>\n",
       "      <td>...</td>\n",
       "      <td>...</td>\n",
       "      <td>...</td>\n",
       "      <td>...</td>\n",
       "      <td>...</td>\n",
       "      <td>...</td>\n",
       "    </tr>\n",
       "    <tr>\n",
       "      <th>31653</th>\n",
       "      <td>108.272727</td>\n",
       "      <td>96.181818</td>\n",
       "      <td>87.333333</td>\n",
       "      <td>65.636364</td>\n",
       "      <td>49.166667</td>\n",
       "      <td>15.545455</td>\n",
       "      <td>36.000000</td>\n",
       "    </tr>\n",
       "    <tr>\n",
       "      <th>31654</th>\n",
       "      <td>92.909091</td>\n",
       "      <td>96.090909</td>\n",
       "      <td>165.000000</td>\n",
       "      <td>122.363636</td>\n",
       "      <td>94.181818</td>\n",
       "      <td>16.909091</td>\n",
       "      <td>37.500000</td>\n",
       "    </tr>\n",
       "    <tr>\n",
       "      <th>31656</th>\n",
       "      <td>99.100000</td>\n",
       "      <td>100.000000</td>\n",
       "      <td>100.300000</td>\n",
       "      <td>78.600000</td>\n",
       "      <td>63.900000</td>\n",
       "      <td>24.900000</td>\n",
       "      <td>38.000000</td>\n",
       "    </tr>\n",
       "    <tr>\n",
       "      <th>31657</th>\n",
       "      <td>64.400000</td>\n",
       "      <td>99.100000</td>\n",
       "      <td>110.500000</td>\n",
       "      <td>73.600000</td>\n",
       "      <td>62.900000</td>\n",
       "      <td>15.500000</td>\n",
       "      <td>36.500000</td>\n",
       "    </tr>\n",
       "    <tr>\n",
       "      <th>31658</th>\n",
       "      <td>68.000000</td>\n",
       "      <td>96.000000</td>\n",
       "      <td>133.000000</td>\n",
       "      <td>99.500000</td>\n",
       "      <td>74.333333</td>\n",
       "      <td>NaN</td>\n",
       "      <td>36.500000</td>\n",
       "    </tr>\n",
       "  </tbody>\n",
       "</table>\n",
       "<p>18995 rows × 7 columns</p>\n",
       "</div>"
      ],
      "text/plain": [
       "        Heartrate        SpO2        ABPs        ABPm        ABPd      RRate  \\\n",
       "pid                                                                            \n",
       "1       77.083333  100.000000  114.500000   68.333333   50.250000  17.000000   \n",
       "2       59.000000   96.000000  131.181818   94.636364   70.090909  18.000000   \n",
       "4       72.545455   99.272727  125.454545   80.909091   49.600000  14.636364   \n",
       "6       87.333333   99.333333  100.666667   65.750000   48.833333  15.833333   \n",
       "8       81.181818   97.800000  204.545455  143.900000  108.954545  17.181818   \n",
       "...           ...         ...         ...         ...         ...        ...   \n",
       "31653  108.272727   96.181818   87.333333   65.636364   49.166667  15.545455   \n",
       "31654   92.909091   96.090909  165.000000  122.363636   94.181818  16.909091   \n",
       "31656   99.100000  100.000000  100.300000   78.600000   63.900000  24.900000   \n",
       "31657   64.400000   99.100000  110.500000   73.600000   62.900000  15.500000   \n",
       "31658   68.000000   96.000000  133.000000   99.500000   74.333333        NaN   \n",
       "\n",
       "            Temp  \n",
       "pid               \n",
       "1      36.750000  \n",
       "2      36.000000  \n",
       "4      36.666667  \n",
       "6      37.166667  \n",
       "8      36.000000  \n",
       "...          ...  \n",
       "31653  36.000000  \n",
       "31654  37.500000  \n",
       "31656  38.000000  \n",
       "31657  36.500000  \n",
       "31658  36.500000  \n",
       "\n",
       "[18995 rows x 7 columns]"
      ]
     },
     "metadata": {},
     "output_type": "display_data"
    },
    {
     "data": {
      "text/plain": [
       "Heartrate    16.135643\n",
       "SpO2          2.227915\n",
       "ABPs         19.454857\n",
       "ABPm         13.587746\n",
       "ABPd         11.667510\n",
       "RRate         4.007461\n",
       "Temp          0.670461\n",
       "dtype: float64"
      ]
     },
     "metadata": {},
     "output_type": "display_data"
    }
   ],
   "source": [
    "ss = Vita_values[0:30]\n",
    "display(ss.std())\n",
    "tt = Vita_values.groupby('pid').mean()\n",
    "display(tt,tt.std())"
   ]
  },
  {
   "cell_type": "code",
   "execution_count": null,
   "metadata": {},
   "outputs": [],
   "source": []
  }
 ],
 "metadata": {
  "kernelspec": {
   "display_name": "Python 3",
   "language": "python",
   "name": "python3"
  },
  "language_info": {
   "codemirror_mode": {
    "name": "ipython",
    "version": 3
   },
   "file_extension": ".py",
   "mimetype": "text/x-python",
   "name": "python",
   "nbconvert_exporter": "python",
   "pygments_lexer": "ipython3",
   "version": "3.7.7"
  }
 },
 "nbformat": 4,
 "nbformat_minor": 2
}
